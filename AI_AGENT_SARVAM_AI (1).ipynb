{
  "nbformat": 4,
  "nbformat_minor": 0,
  "metadata": {
    "colab": {
      "provenance": []
    },
    "kernelspec": {
      "name": "python3",
      "display_name": "Python 3"
    },
    "language_info": {
      "name": "python"
    }
  },
  "cells": [
    {
      "cell_type": "code",
      "execution_count": null,
      "metadata": {
        "colab": {
          "base_uri": "https://localhost:8080/"
        },
        "id": "S_RKDPpi2J5v",
        "outputId": "30f18635-8f60-4bf4-8cf1-2f368f1bd10f"
      },
      "outputs": [
        {
          "output_type": "stream",
          "name": "stdout",
          "text": [
            "Requirement already satisfied: requests in /usr/local/lib/python3.10/dist-packages (2.32.3)\n",
            "Requirement already satisfied: cachetools in /usr/local/lib/python3.10/dist-packages (5.5.0)\n",
            "Requirement already satisfied: charset-normalizer<4,>=2 in /usr/local/lib/python3.10/dist-packages (from requests) (3.4.0)\n",
            "Requirement already satisfied: idna<4,>=2.5 in /usr/local/lib/python3.10/dist-packages (from requests) (3.10)\n",
            "Requirement already satisfied: urllib3<3,>=1.21.1 in /usr/local/lib/python3.10/dist-packages (from requests) (2.2.3)\n",
            "Requirement already satisfied: certifi>=2017.4.17 in /usr/local/lib/python3.10/dist-packages (from requests) (2024.8.30)\n"
          ]
        }
      ],
      "source": [
        "!pip install requests cachetools\n"
      ]
    },
    {
      "cell_type": "code",
      "source": [
        "# Configurations\n",
        "TOGETHER_AI_API_KEY = \"38936c79652e2c968f6e0259647de214db00afd3b87814d02e380bfc080bf04c\"\n",
        "TOGETHER_API_URL = \"https://api.together.ai/llama3\"\n",
        "COIN_GECKO_API_URL = \"https://api.coingecko.com/api/v3/simple/price\"\n"
      ],
      "metadata": {
        "id": "YoLkW5EW2QU0"
      },
      "execution_count": 2,
      "outputs": []
    },
    {
      "cell_type": "code",
      "source": [
        "import requests\n",
        "from cachetools import TTLCache\n",
        "import time\n",
        "\n",
        "# Set up caching and rate limiting\n",
        "crypto_cache = TTLCache(maxsize=10, ttl=300)  # Cache with a TTL of 5 minutes\n",
        "LAST_API_CALL = 0\n",
        "RATE_LIMIT = 2  # seconds\n",
        "\n",
        "def rate_limited(func):\n",
        "    def wrapper(*args, **kwargs):\n",
        "        global LAST_API_CALL\n",
        "        elapsed_time = time.time() - LAST_API_CALL\n",
        "        if elapsed_time < RATE_LIMIT:\n",
        "            time.sleep(RATE_LIMIT - elapsed_time)\n",
        "        LAST_API_CALL = time.time()\n",
        "        return func(*args, **kwargs)\n",
        "    return wrapper\n",
        "\n",
        "@rate_limited\n",
        "def fetch_crypto_price(crypto=\"bitcoin\"):\n",
        "    if crypto in crypto_cache:\n",
        "        return crypto_cache[crypto]\n",
        "\n",
        "    try:\n",
        "        response = requests.get(f\"{COIN_GECKO_API_URL}?ids={crypto}&vs_currencies=usd\")\n",
        "        response.raise_for_status()\n",
        "        data = response.json()\n",
        "        price = data.get(crypto, {}).get(\"usd\", None)\n",
        "        if price:\n",
        "            crypto_cache[crypto] = price  # Cache the result\n",
        "            return price\n",
        "        else:\n",
        "            return \"Price data not available.\"\n",
        "    except requests.RequestException as e:\n",
        "        return f\"Error fetching price: {str(e)}\"\n",
        "\n",
        "def query_llama(prompt: str):\n",
        "    headers = {\n",
        "        \"Authorization\": f\"Bearer {TOGETHER_AI_API_KEY}\",\n",
        "        \"Content-Type\": \"application/json\"\n",
        "    }\n",
        "    payload = {\"prompt\": prompt}\n",
        "\n",
        "    try:\n",
        "        response = requests.post(TOGETHER_API_URL, headers=headers, json=payload)\n",
        "        response.raise_for_status()\n",
        "        data = response.json()\n",
        "        return data.get(\"text\", \"Response unavailable.\")\n",
        "    except requests.RequestException as e:\n",
        "        return f\"Error with Together AI API: {str(e)}\"\n"
      ],
      "metadata": {
        "id": "I0ixaDhgBSHx"
      },
      "execution_count": 3,
      "outputs": []
    },
    {
      "cell_type": "code",
      "source": [
        "class AIAgent:\n",
        "    def __init__(self):\n",
        "        self.conversation_context = []\n",
        "\n",
        "    def process_message(self, user_message):\n",
        "        if \"price\" in user_message:\n",
        "            crypto = \"bitcoin\"  # Default to Bitcoin\n",
        "            if \"ethereum\" in user_message:\n",
        "                crypto = \"ethereum\"\n",
        "            price = fetch_crypto_price(crypto)\n",
        "            response = f\"The current price of {crypto.capitalize()} is ${price}.\"\n",
        "\n",
        "        elif \"translate\" in user_message:\n",
        "            lang_request = self.detect_language(user_message)\n",
        "            response = f\"Sure, but my responses will stay in English. What would you like to translate?\"\n",
        "\n",
        "        else:\n",
        "            # Default handling for Together AI conversation\n",
        "            prompt = self.build_prompt(user_message)\n",
        "            response = query_llama(prompt)\n",
        "\n",
        "        # Update the conversation context\n",
        "        self.conversation_context.append({\"user\": user_message, \"agent\": response})\n",
        "        return response\n",
        "\n",
        "    def build_prompt(self, user_message):\n",
        "        context_text = \"\\n\".join([f\"User: {msg['user']}\\nAgent: {msg['agent']}\" for msg in self.conversation_context[-5:]])\n",
        "        return f\"{context_text}\\nUser: {user_message}\\nAgent:\"\n",
        "\n",
        "    def detect_language(self, text):\n",
        "        # Simplified language detection stub\n",
        "        return \"en\" if \"english\" in text.lower() else \"unknown\"\n"
      ],
      "metadata": {
        "id": "F2SCKqUrBUb7"
      },
      "execution_count": 4,
      "outputs": []
    },
    {
      "cell_type": "code",
      "source": [
        "# Initialize the agent\n",
        "agent = AIAgent()\n",
        "\n",
        "# Simulate user queries\n",
        "print(agent.process_message(\"What is the Bitcoin price?\"))\n",
        "print(agent.process_message(\"Can you translate this to French?\"))\n"
      ],
      "metadata": {
        "colab": {
          "base_uri": "https://localhost:8080/"
        },
        "id": "ytvT5bRdBZHK",
        "outputId": "415a8fcd-ee3d-4946-cff0-1183d70ddcc5"
      },
      "execution_count": 5,
      "outputs": [
        {
          "output_type": "stream",
          "name": "stdout",
          "text": [
            "The current price of Bitcoin is $69391.\n",
            "Sure, but my responses will stay in English. What would you like to translate?\n"
          ]
        }
      ]
    }
  ]
}